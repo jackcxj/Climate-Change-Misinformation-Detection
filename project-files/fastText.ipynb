{
 "cells": [
  {
   "cell_type": "code",
   "execution_count": 5,
   "metadata": {},
   "outputs": [],
   "source": [
    "import json\n",
    "import os"
   ]
  },
  {
   "cell_type": "code",
   "execution_count": 6,
   "metadata": {},
   "outputs": [],
   "source": [
    "fname=\"extended_train_data\""
   ]
  },
  {
   "cell_type": "code",
   "execution_count": 2,
   "metadata": {},
   "outputs": [],
   "source": [
    "train_file = \"train.json\"\n",
    "dev_file = \"dev.json\"\n",
    "test_file = \"test-unlabelled.json\""
   ]
  },
  {
   "cell_type": "code",
   "execution_count": 41,
   "metadata": {},
   "outputs": [],
   "source": [
    "def get_text_from_json(file_path):\n",
    "    texts = []\n",
    "    with open(file_path) as json_file:\n",
    "        data = json.load(json_file)\n",
    "        for key in data.keys():\n",
    "            texts.append(data[key][\"text\"])\n",
    "    return texts"
   ]
  },
  {
   "cell_type": "code",
   "execution_count": 42,
   "metadata": {},
   "outputs": [],
   "source": [
    "train_texts = get_text_from_json(train_file_path)\n",
    "dev_texts = get_text_from_json(dev_file_path)\n",
    "test_texts = get_text_from_json(test_file_path)"
   ]
  },
  {
   "cell_type": "code",
   "execution_count": 43,
   "metadata": {},
   "outputs": [
    {
     "name": "stdout",
     "output_type": "stream",
     "text": [
      "1168\n",
      "100\n",
      "1410\n"
     ]
    }
   ],
   "source": [
    "print(len(train_texts))\n",
    "print(len(dev_texts))\n",
    "print(len(test_texts))"
   ]
  },
  {
   "cell_type": "code",
   "execution_count": 44,
   "metadata": {},
   "outputs": [],
   "source": [
    "def get_extended_train_text(fname):\n",
    "    extend_train_texts= []\n",
    "    for file in sorted(os.listdir(fname)):\n",
    "        if \".DS_Store\" not in file:\n",
    "            with open(os.path.join(fname, file)) as json_file:\n",
    "                data = json.load(json_file)\n",
    "                texts = data[\"pages\"]\n",
    "                for text in texts:\n",
    "                    if \"text\" in text.keys():\n",
    "                        extend_train_texts.append(text[\"text\"])\n",
    "    return extend_train_texts"
   ]
  },
  {
   "cell_type": "code",
   "execution_count": 45,
   "metadata": {},
   "outputs": [],
   "source": [
    "extend_train_texts = get_extended_train_text(fname)\n",
    "extend_train_labels = [0]*len(extend_train_texts)"
   ]
  },
  {
   "cell_type": "code",
   "execution_count": 46,
   "metadata": {},
   "outputs": [],
   "source": [
    "def get_label_from_json(file_path):\n",
    "    labels = []\n",
    "    with open(file_path) as json_file:\n",
    "        data = json.load(json_file)\n",
    "        for key in data.keys():\n",
    "            labels.append(data[key][\"label\"])\n",
    "    return labels"
   ]
  },
  {
   "cell_type": "code",
   "execution_count": 47,
   "metadata": {},
   "outputs": [],
   "source": [
    "train_labels = get_label_from_json(train_file_path)\n",
    "dev_labels = get_label_from_json(dev_file_path)"
   ]
  },
  {
   "cell_type": "code",
   "execution_count": 48,
   "metadata": {},
   "outputs": [
    {
     "name": "stdout",
     "output_type": "stream",
     "text": [
      "1168\n",
      "100\n"
     ]
    }
   ],
   "source": [
    "print(len(train_labels))\n",
    "print(len(dev_labels))"
   ]
  },
  {
   "cell_type": "code",
   "execution_count": 49,
   "metadata": {},
   "outputs": [],
   "source": [
    "train_texts += extend_train_texts\n",
    "train_labels += extend_train_labels"
   ]
  },
  {
   "cell_type": "code",
   "execution_count": 50,
   "metadata": {},
   "outputs": [
    {
     "name": "stdout",
     "output_type": "stream",
     "text": [
      "2182\n",
      "2182\n"
     ]
    }
   ],
   "source": [
    "print(len(train_texts))\n",
    "print(len(train_labels))"
   ]
  },
  {
   "cell_type": "code",
   "execution_count": 17,
   "metadata": {},
   "outputs": [],
   "source": [
    "with open(\"train_file.txt\",\"w\") as file:\n",
    "    for index in range(len(train_texts)):\n",
    "        file.write(str(\"__label__\")+str(train_labels[index])+\" \"+train_texts[index].replace(\"\\n\", \" \")+\"\\n\")"
   ]
  },
  {
   "cell_type": "code",
   "execution_count": 18,
   "metadata": {},
   "outputs": [],
   "source": [
    "with open(\"dev_file.txt\",\"w\") as file:\n",
    "    for index in range(len(dev_texts)):\n",
    "        file.write(str(\"__label__\")+str(dev_labels[index])+\" \"+dev_texts[index].replace(\"\\n\", \" \")+\"\\n\")"
   ]
  },
  {
   "cell_type": "code",
   "execution_count": 19,
   "metadata": {},
   "outputs": [],
   "source": [
    "with open(\"dev_unlabelled_file.txt\",\"w\") as file:\n",
    "    for index in range(len(dev_texts)):\n",
    "        file.write(dev_texts[index].replace(\"\\n\", \" \")+\"\\n\")"
   ]
  },
  {
   "cell_type": "code",
   "execution_count": 20,
   "metadata": {},
   "outputs": [],
   "source": [
    "with open(\"test_file.txt\",\"w\") as file:\n",
    "    for index in range(len(test_texts)):\n",
    "        file.write(test_texts[index].replace(\"\\n\", \" \")+\"\\n\")"
   ]
  },
  {
   "cell_type": "code",
   "execution_count": 30,
   "metadata": {},
   "outputs": [],
   "source": [
    "def get_label_from_text(file_path):\n",
    "    labels = []\n",
    "    with open(file_path) as file:\n",
    "        label = file.readline()\n",
    "        while label: \n",
    "            if \"__label__\" in label:\n",
    "                labels.append(int(label.strip(\"__label__\")))\n",
    "            else:\n",
    "                labels.append(int(label))\n",
    "            label = file.readline()\n",
    "    return labels"
   ]
  },
  {
   "cell_type": "code",
   "execution_count": 22,
   "metadata": {},
   "outputs": [],
   "source": [
    "from sklearn.metrics import precision_recall_fscore_support\n",
    "def compute_F1(predict_label, true_label):\n",
    "    p, r, f, _ = precision_recall_fscore_support(true_label, predict_label, pos_label=1, average=\"binary\")\n",
    "    return f"
   ]
  },
  {
   "cell_type": "code",
   "execution_count": 38,
   "metadata": {},
   "outputs": [
    {
     "name": "stdout",
     "output_type": "stream",
     "text": [
      "0.7377049180327869\n"
     ]
    }
   ],
   "source": [
    "predict_dev_labels = get_label_from_text(\"fastText/prediction/dev_lr0.5_epoch100.txt\")\n",
    "print(compute_F1(predict_dev_labels, dev_labels))"
   ]
  },
  {
   "cell_type": "code",
   "execution_count": 39,
   "metadata": {},
   "outputs": [
    {
     "name": "stdout",
     "output_type": "stream",
     "text": [
      "0.7479674796747968\n"
     ]
    }
   ],
   "source": [
    "predict_dev_labels = get_label_from_text(\"fastText/prediction/dev_lr0.5_epoch1000.txt\")\n",
    "print(compute_F1(predict_dev_labels, dev_labels))"
   ]
  },
  {
   "cell_type": "code",
   "execution_count": null,
   "metadata": {},
   "outputs": [],
   "source": [
    "predict_dev_labels = get_label_from_text(\"fastText/prediction/dev_lr0.5_epoch2000.txt\")\n",
    "print(compute_F1(predict_dev_labels, dev_labels))"
   ]
  },
  {
   "cell_type": "code",
   "execution_count": 34,
   "metadata": {},
   "outputs": [
    {
     "name": "stdout",
     "output_type": "stream",
     "text": [
      "0.7419354838709677\n"
     ]
    }
   ],
   "source": [
    "predict_dev_labels = get_label_from_text(\"fastText/prediction/dev_lr0.5_epoch100_word1Gram.txt\")\n",
    "print(compute_F1(predict_dev_labels, dev_labels))"
   ]
  },
  {
   "cell_type": "code",
   "execution_count": 36,
   "metadata": {},
   "outputs": [
    {
     "name": "stdout",
     "output_type": "stream",
     "text": [
      "0.7580645161290321\n"
     ]
    }
   ],
   "source": [
    "predict_dev_labels = get_label_from_text(\"fastText/prediction/dev_lr0.5_epoch1000_word1Gram.txt\")\n",
    "print(compute_F1(predict_dev_labels, dev_labels))"
   ]
  },
  {
   "cell_type": "code",
   "execution_count": 37,
   "metadata": {},
   "outputs": [
    {
     "name": "stdout",
     "output_type": "stream",
     "text": [
      "0.7580645161290321\n"
     ]
    }
   ],
   "source": [
    "predict_dev_labels = get_label_from_text(\"fastText/prediction/dev_lr0.5_epoch2000_word1Gram.txt\")\n",
    "print(compute_F1(predict_dev_labels, dev_labels))"
   ]
  },
  {
   "cell_type": "code",
   "execution_count": 27,
   "metadata": {},
   "outputs": [
    {
     "name": "stdout",
     "output_type": "stream",
     "text": [
      "0.6666666666666666\n"
     ]
    }
   ],
   "source": [
    "print(compute_F1([1]*100, dev_labels))"
   ]
  },
  {
   "cell_type": "code",
   "execution_count": null,
   "metadata": {},
   "outputs": [],
   "source": [
    "# Mac command to install and run fastText\n",
    "git clone https://github.com/facebookresearch/fastText.git\n",
    "cd fastText\n",
    "make\n",
    "./fasttext supervised -input train_file.txt -output model1_lr0.5_epoch100_word1Gram -lr 0.5 -epoch 100 -wordNgrams 1\n",
    "./fasttext test model1_lr0.5_epoch100_word1Gram.bin dev_file.txt\n",
    "./fasttext predict model1_lr0.5_epoch100_word1Gram.bin dev_unlabelled_file.txt > ../prediction/dev_lr0.5_epoch100_word1Gram.txt"
   ]
  }
 ],
 "metadata": {
  "kernelspec": {
   "display_name": "Python 3",
   "language": "python",
   "name": "python3"
  },
  "language_info": {
   "codemirror_mode": {
    "name": "ipython",
    "version": 3
   },
   "file_extension": ".py",
   "mimetype": "text/x-python",
   "name": "python",
   "nbconvert_exporter": "python",
   "pygments_lexer": "ipython3",
   "version": "3.7.3"
  }
 },
 "nbformat": 4,
 "nbformat_minor": 2
}
